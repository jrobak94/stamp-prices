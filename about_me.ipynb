{
  "nbformat": 4,
  "nbformat_minor": 0,
  "metadata": {
    "colab": {
      "provenance": [],
      "authorship_tag": "ABX9TyMLHtzHbwfhRPw9xYFHv0Uu",
      "include_colab_link": true
    },
    "kernelspec": {
      "name": "python3",
      "display_name": "Python 3"
    },
    "language_info": {
      "name": "python"
    }
  },
  "cells": [
    {
      "cell_type": "markdown",
      "metadata": {
        "id": "view-in-github",
        "colab_type": "text"
      },
      "source": [
        "<a href=\"https://colab.research.google.com/github/jrobak94/stamp-prices/blob/main/about_me.ipynb\" target=\"_parent\"><img src=\"https://colab.research.google.com/assets/colab-badge.svg\" alt=\"Open In Colab\"/></a>"
      ]
    },
    {
      "cell_type": "markdown",
      "source": [
        "\n",
        "# Joseph (Joe) Robak\n",
        "\n",
        "## A bit about me...\n",
        "\n",
        "\n",
        "\n",
        "------------------"
      ],
      "metadata": {
        "id": "C0xZECZi5Ynt"
      }
    },
    {
      "cell_type": "code",
      "source": [],
      "metadata": {
        "id": "9MpYqLL6BOUM"
      },
      "execution_count": null,
      "outputs": []
    },
    {
      "cell_type": "markdown",
      "source": [
        "- I signed up for this bootcamp in order to get a solid foundation for coding, and since I have a degree in Biochemistry it is very important in that field. I learned a lot about computers when I started producing music, and I really enjoyed learning it.\n",
        "\n",
        "- If I had my body but the head of a different animal, I would pick the head of a dolphin so I could have built-in sonar and I bet feeling that blubbery head would be satisfying.\n",
        "\n",
        "- Maps, Spotify, and Instagram would be my 3 apps I could survive on.\n",
        "\n",
        "- I don't listen to *podcasts* regularly, listening to politics on twitch is the closest, but my favorite TV Show is **Twin Peaks**.\n",
        "\n",
        "\n",
        "- I like to snowboard, play disc golf, play tennis, and run/workout. Hobby-wise I like to play guitar and drums, and write music on my computer. Sometimes i'll try to build/fix things.\n",
        "\n",
        "- Interesting things about me, I am left-handed, I used to do live sound for concerts, and work as a recording engineer in Portland, Oregon.\n",
        "\n"
      ],
      "metadata": {
        "id": "VhfYyVi45aw6"
      }
    },
    {
      "cell_type": "code",
      "source": [],
      "metadata": {
        "id": "X3Pd-1hbS5Pk"
      },
      "execution_count": null,
      "outputs": []
    },
    {
      "cell_type": "markdown",
      "source": [
        "### The Places I've Lived\n",
        "\n",
        "Albuquerque | Chambéry | Portland |\n",
        "-|-|-\n",
        "Most of My Life | 1 year | 2 years\n",
        "Desert | French Alps | Endless Rain\n",
        "Crazy | Wholesome | Crazy + Wholesome |\n"
      ],
      "metadata": {
        "id": "kpZfyNx--kBD"
      }
    },
    {
      "cell_type": "markdown",
      "source": [
        "\n",
        "**My child when she was a baby.**\n",
        "\n",
        " ![This is My Cat Juno](https://preview.redd.it/b5v9lf7y3wlz.jpg?width=1080&crop=smart&auto=webp&s=ae58954323bca662bc1c78fdc8e19ed53278cb6a \"This is Juno\")\n"
      ],
      "metadata": {
        "id": "ES0a84_zBDmm"
      }
    }
  ]
}